{
 "cells": [
  {
   "cell_type": "code",
   "execution_count": 9,
   "metadata": {},
   "outputs": [],
   "source": [
    "from scipy.stats import ttest_rel\n",
    "import numpy as np"
   ]
  },
  {
   "cell_type": "code",
   "execution_count": 10,
   "metadata": {},
   "outputs": [],
   "source": [
    "accE1Weibo = np.load('accuraciesE1_Weibo.npy')\n",
    "accE2Weibo = np.load('accuraciesE2_Weibo.npy')\n",
    "accE1BCI = np.load('accuraciesE1_BCI.npy')\n",
    "accE2BCI = np.load('accuraciesE2_BCI.npy')\n",
    "accE1KARAONE = np.load('accuraciesE1_KARAONE.npy')\n",
    "accE2KARAONE = np.load('accuraciesE2_KARAONE.npy')\n",
    "accE1Nguyen = np.load('accuraciesE1_Nguyen.npy')\n",
    "accE2Nguyen = np.load('accuraciesE2_Nguyen.npy')"
   ]
  },
  {
   "cell_type": "code",
   "execution_count": 11,
   "metadata": {},
   "outputs": [
    {
     "name": "stdout",
     "output_type": "stream",
     "text": [
      "Paired t-test: t = 1.4248, p = 0.1880\n"
     ]
    }
   ],
   "source": [
    "# paired t-test between motor imagery datasets Experiment 1\n",
    "t_stat, p_val = ttest_rel(accE1Weibo, accE1BCI)\n",
    "print(f\"Paired t-test: t = {t_stat:.4f}, p = {p_val:.4f}\")"
   ]
  },
  {
   "cell_type": "code",
   "execution_count": 12,
   "metadata": {},
   "outputs": [
    {
     "name": "stdout",
     "output_type": "stream",
     "text": [
      "Paired t-test: t = -1.4974, p = 0.1685\n"
     ]
    }
   ],
   "source": [
    "# paired t-test between motor imagery datasets Experiment 2\n",
    "t_stat, p_val = ttest_rel(accE2Weibo, accE2BCI)\n",
    "print(f\"Paired t-test: t = {t_stat:.4f}, p = {p_val:.4f}\")"
   ]
  },
  {
   "cell_type": "code",
   "execution_count": 13,
   "metadata": {},
   "outputs": [
    {
     "name": "stdout",
     "output_type": "stream",
     "text": [
      "Paired t-test: t = -17.5446, p = 0.0000\n"
     ]
    }
   ],
   "source": [
    "# paired t-test between speech imagery datasets Experiment 1\n",
    "t_stat, p_val = ttest_rel(accE1KARAONE, accE1Nguyen)\n",
    "print(f\"Paired t-test: t = {t_stat:.4f}, p = {p_val:.4f}\")"
   ]
  },
  {
   "cell_type": "code",
   "execution_count": 14,
   "metadata": {},
   "outputs": [
    {
     "name": "stdout",
     "output_type": "stream",
     "text": [
      "Paired t-test: t = -16.9167, p = 0.0000\n"
     ]
    }
   ],
   "source": [
    "# paired t-test between speech imagery datasets Experiment 2\n",
    "t_stat, p_val = ttest_rel(accE2KARAONE, accE2Nguyen)\n",
    "print(f\"Paired t-test: t = {t_stat:.4f}, p = {p_val:.4f}\")"
   ]
  },
  {
   "cell_type": "code",
   "execution_count": 15,
   "metadata": {},
   "outputs": [
    {
     "name": "stdout",
     "output_type": "stream",
     "text": [
      "Mean Accuracy Weibo: 0.3639, Mean Accuracy BCI: 0.3444\n",
      "Weibo is 5.65% better on average\n",
      "Max Accuracy Weibo: 0.5069, Max Accuracy BCI: 0.4444\n",
      "Weibo's best accuracy is 14.06% higher\n"
     ]
    }
   ],
   "source": [
    "# average and max accuracy comparison between motor imagery datasets Experiment 1\n",
    "meanE1Weibo, meanE1BCI = np.mean(accE1Weibo), np.mean(accE1BCI)\n",
    "maxE1Weibo, maxE1BCI = np.max(accE1Weibo), np.max(accE1BCI)\n",
    "\n",
    "meanE1_improvement = ((meanE1Weibo - meanE1BCI) / meanE1BCI) * 100\n",
    "maxE1_improvement = ((maxE1Weibo - maxE1BCI) / maxE1BCI) * 100\n",
    "\n",
    "print(f\"Mean Accuracy Weibo: {meanE1Weibo:.4f}, Mean Accuracy BCI: {meanE1BCI:.4f}\")\n",
    "print(f\"Weibo is {meanE1_improvement:.2f}% better on average\")\n",
    "\n",
    "print(f\"Max Accuracy Weibo: {maxE1Weibo:.4f}, Max Accuracy BCI: {maxE1BCI:.4f}\")\n",
    "print(f\"Weibo's best accuracy is {maxE1_improvement:.2f}% higher\")"
   ]
  },
  {
   "cell_type": "code",
   "execution_count": 16,
   "metadata": {},
   "outputs": [
    {
     "name": "stdout",
     "output_type": "stream",
     "text": [
      "Mean Accuracy Weibo: 0.3861, Mean Accuracy BCI: 0.3993\n",
      "Weibo is -3.30% better on average\n",
      "Max Accuracy Weibo: 0.4792, Max Accuracy BCI: 0.5069\n",
      "Weibo's best accuracy is -5.48% higher\n"
     ]
    }
   ],
   "source": [
    "# average and max accuracy comparison between motor imagery datasets Experiment 2\n",
    "meanE2Weibo, meanE2BCI = np.mean(accE2Weibo), np.mean(accE2BCI)\n",
    "maxE2Weibo, maxE2BCI = np.max(accE2Weibo), np.max(accE2BCI)\n",
    "\n",
    "meanE2_improvement = ((meanE2Weibo - meanE2BCI) / meanE2BCI) * 100\n",
    "maxE2_improvement = ((maxE2Weibo - maxE2BCI) / maxE2BCI) * 100\n",
    "\n",
    "print(f\"Mean Accuracy Weibo: {meanE2Weibo:.4f}, Mean Accuracy BCI: {meanE2BCI:.4f}\")\n",
    "print(f\"Weibo is {meanE2_improvement:.2f}% better on average\")\n",
    "\n",
    "print(f\"Max Accuracy Weibo: {maxE2Weibo:.4f}, Max Accuracy BCI: {maxE2BCI:.4f}\")\n",
    "print(f\"Weibo's best accuracy is {maxE2_improvement:.2f}% higher\")"
   ]
  },
  {
   "cell_type": "code",
   "execution_count": 17,
   "metadata": {},
   "outputs": [
    {
     "name": "stdout",
     "output_type": "stream",
     "text": [
      "Mean Accuracy KARAONE: 0.2171, Mean Accuracy Nguyen: 0.4944\n",
      "KARAONE is -56.08% better on average\n",
      "Max Accuracy KARAONE: 0.2786, Max Accuracy Nguyen: 0.5556\n",
      "KARAONE's best accuracy is -49.86% higher\n"
     ]
    }
   ],
   "source": [
    "# average and max accuracy comparison between speech imagery datasets Experiment 1\n",
    "meanE1KARAONE, meanE1Nguyen = np.mean(accE1KARAONE), np.mean(accE1Nguyen)\n",
    "maxE1KARAONE, maxE1Nguyen = np.max(accE1KARAONE), np.max(accE1Nguyen)\n",
    "\n",
    "meanE1_improvement = ((meanE1KARAONE - meanE1Nguyen) / meanE1Nguyen) * 100\n",
    "maxE1_improvement = ((maxE1KARAONE - maxE1Nguyen) / maxE1Nguyen) * 100\n",
    "\n",
    "print(f\"Mean Accuracy KARAONE: {meanE1KARAONE:.4f}, Mean Accuracy Nguyen: {meanE1Nguyen:.4f}\")\n",
    "print(f\"KARAONE is {meanE1_improvement:.2f}% better on average\")\n",
    "\n",
    "print(f\"Max Accuracy KARAONE: {maxE1KARAONE:.4f}, Max Accuracy Nguyen: {maxE1Nguyen:.4f}\")\n",
    "print(f\"KARAONE's best accuracy is {maxE1_improvement:.2f}% higher\")"
   ]
  },
  {
   "cell_type": "code",
   "execution_count": 18,
   "metadata": {},
   "outputs": [
    {
     "name": "stdout",
     "output_type": "stream",
     "text": [
      "Mean Accuracy KARAONE: 0.2729, Mean Accuracy Nguyen: 0.5451\n",
      "KARAONE is -49.95% better on average\n",
      "Max Accuracy KARAONE: 0.3143, Max Accuracy Nguyen: 0.6181\n",
      "KARAONE's best accuracy is -49.15% higher\n"
     ]
    }
   ],
   "source": [
    "# average and max accuracy comparison between speech imagery datasets Experiment 2\n",
    "meanE2KARAONE, meanE2Nguyen = np.mean(accE2KARAONE), np.mean(accE2Nguyen)\n",
    "maxE2KARAONE, maxE2Nguyen = np.max(accE2KARAONE), np.max(accE2Nguyen)\n",
    "\n",
    "meanE2_improvement = ((meanE2KARAONE - meanE2Nguyen) / meanE2Nguyen) * 100\n",
    "maxE2_improvement = ((maxE2KARAONE - maxE2Nguyen) / maxE2Nguyen) * 100\n",
    "\n",
    "print(f\"Mean Accuracy KARAONE: {meanE2KARAONE:.4f}, Mean Accuracy Nguyen: {meanE2Nguyen:.4f}\")\n",
    "print(f\"KARAONE is {meanE2_improvement:.2f}% better on average\")\n",
    "\n",
    "print(f\"Max Accuracy KARAONE: {maxE2KARAONE:.4f}, Max Accuracy Nguyen: {maxE2Nguyen:.4f}\")\n",
    "print(f\"KARAONE's best accuracy is {maxE2_improvement:.2f}% higher\")"
   ]
  },
  {
   "cell_type": "code",
   "execution_count": 19,
   "metadata": {},
   "outputs": [
    {
     "name": "stdout",
     "output_type": "stream",
     "text": [
      "Paired t-test (motor vs. speech): t = -0.0783, p = 0.9393\n"
     ]
    }
   ],
   "source": [
    "# paired t-test between motor and speech datasets (combined by type) for Experiment 1\n",
    "avg_motor = np.mean([accE1Weibo, accE1BCI], axis=0)\n",
    "avg_speech = np.mean([accE1KARAONE, accE1Nguyen], axis=0)\n",
    "\n",
    "t_stat, p_val = ttest_rel(avg_motor, avg_speech)\n",
    "print(f\"Paired t-test (motor vs. speech): t = {t_stat:.4f}, p = {p_val:.4f}\")"
   ]
  },
  {
   "cell_type": "code",
   "execution_count": 20,
   "metadata": {},
   "outputs": [
    {
     "name": "stdout",
     "output_type": "stream",
     "text": [
      "Percent average accuracy of motor better than speech: -0.46%\n",
      "Percent max accuracy of motor better than speech: -8.75%\n"
     ]
    }
   ],
   "source": [
    "# average and max accuracy comparison between motor and speech datasets for Experiment 1\n",
    "mean_motor = np.mean(avg_motor)\n",
    "mean_speech = np.mean(avg_speech)\n",
    "\n",
    "improvement_mean = ((mean_motor - mean_speech) / mean_speech) * 100\n",
    "print(f\"Percent average accuracy of motor better than speech: {improvement_mean:.2f}%\")\n",
    "\n",
    "max_motor = max(np.max(accE1Weibo), np.max(accE1BCI))\n",
    "max_speech = max(np.max(accE1KARAONE), np.max(accE1Nguyen))\n",
    "\n",
    "improvement_max = ((max_motor - max_speech) / max_speech) * 100\n",
    "print(f\"Percent max accuracy of motor better than speech: {improvement_max:.2f}%\")"
   ]
  },
  {
   "cell_type": "code",
   "execution_count": 21,
   "metadata": {},
   "outputs": [
    {
     "name": "stdout",
     "output_type": "stream",
     "text": [
      "Paired t-test (motor vs. speech): t = -1.1939, p = 0.2630\n"
     ]
    }
   ],
   "source": [
    "# paired t-test between motor and speech datasets (combined by type) for Experiment 2\n",
    "avg_motor = np.mean([accE2Weibo, accE2BCI], axis=0)\n",
    "avg_speech = np.mean([accE2KARAONE, accE2Nguyen], axis=0)\n",
    "\n",
    "t_stat, p_val = ttest_rel(avg_motor, avg_speech)\n",
    "print(f\"Paired t-test (motor vs. speech): t = {t_stat:.4f}, p = {p_val:.4f}\")"
   ]
  },
  {
   "cell_type": "code",
   "execution_count": 22,
   "metadata": {},
   "outputs": [
    {
     "name": "stdout",
     "output_type": "stream",
     "text": [
      "Percent average accuracy of motor better than speech: -3.98%\n",
      "Percent max accuracy of motor better than speech: -17.98%\n"
     ]
    }
   ],
   "source": [
    "# average and max accuracy comparison between motor and speech datasets for Experiment 1\n",
    "mean_motor = np.mean(avg_motor)\n",
    "mean_speech = np.mean(avg_speech)\n",
    "\n",
    "improvement_mean = ((mean_motor - mean_speech) / mean_speech) * 100\n",
    "print(f\"Percent average accuracy of motor better than speech: {improvement_mean:.2f}%\")\n",
    "\n",
    "max_motor = max(np.max(accE2Weibo), np.max(accE2BCI))\n",
    "max_speech = max(np.max(accE2KARAONE), np.max(accE2Nguyen))\n",
    "\n",
    "improvement_max = ((max_motor - max_speech) / max_speech) * 100\n",
    "print(f\"Percent max accuracy of motor better than speech: {improvement_max:.2f}%\")"
   ]
  }
 ],
 "metadata": {
  "kernelspec": {
   "display_name": "base",
   "language": "python",
   "name": "python3"
  },
  "language_info": {
   "codemirror_mode": {
    "name": "ipython",
    "version": 3
   },
   "file_extension": ".py",
   "mimetype": "text/x-python",
   "name": "python",
   "nbconvert_exporter": "python",
   "pygments_lexer": "ipython3",
   "version": "3.12.2"
  }
 },
 "nbformat": 4,
 "nbformat_minor": 2
}
