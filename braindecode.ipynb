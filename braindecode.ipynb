{
 "cells": [
  {
   "cell_type": "code",
   "execution_count": 1,
   "metadata": {},
   "outputs": [],
   "source": [
    "import torch\n",
    "from braindecode.models import ShallowFBCSPNet\n",
    "from braindecode.util import set_random_seeds\n",
    "from braindecode.datasets import MOABBDataset\n",
    "from numpy import multiply\n",
    "from braindecode.preprocessing import (\n",
    "    Preprocessor, \n",
    "    exponential_moving_standardize,\n",
    "    preprocess,\n",
    "    create_windows_from_events,\n",
    ")\n",
    "from skorch.callbacks import LRScheduler\n",
    "from skorch.helper import predefined_split\n",
    "from braindecode import EEGClassifier"
   ]
  },
  {
   "cell_type": "code",
   "execution_count": 2,
   "metadata": {},
   "outputs": [
    {
     "name": "stderr",
     "output_type": "stream",
     "text": [
      "/Users/ingerlisamalia/miniconda3/lib/python3.12/site-packages/moabb/datasets/download.py:55: RuntimeWarning: Setting non-standard config type: \"MNE_DATASETS_BNCI_PATH\"\n",
      "  set_config(key, get_config(\"MNE_DATA\"))\n",
      "Downloading data from 'http://bnci-horizon-2020.eu/database/data-sets/001-2014/A03T.mat' to file '/Users/ingerlisamalia/mne_data/MNE-bnci-data/database/data-sets/001-2014/A03T.mat'.\n"
     ]
    },
    {
     "name": "stdout",
     "output_type": "stream",
     "text": [
      "MNE_DATA is not already configured. It will be set to default location in the home directory - /Users/ingerlisamalia/mne_data\n",
      "All datasets will be downloaded to this location, if anything is already downloaded, please move manually to this location\n"
     ]
    },
    {
     "name": "stderr",
     "output_type": "stream",
     "text": [
      "/Users/ingerlisamalia/miniconda3/lib/python3.12/site-packages/urllib3/connectionpool.py:1064: InsecureRequestWarning: Unverified HTTPS request is being made to host 'lampx.tugraz.at'. Adding certificate verification is strongly advised. See: https://urllib3.readthedocs.io/en/1.26.x/advanced-usage.html#ssl-warnings\n",
      "  warnings.warn(\n",
      "100%|█████████████████████████████████████| 44.1M/44.1M [00:00<00:00, 32.3GB/s]\n",
      "SHA256 hash of downloaded file: 7e731ee8b681d5da6ecb11ae1d4e64b1653c7f15aad5d6b7620b25ce53141e80\n",
      "Use this value as the 'known_hash' argument of 'pooch.retrieve' to ensure that the file hasn't changed if it is downloaded again in the future.\n",
      "Downloading data from 'http://bnci-horizon-2020.eu/database/data-sets/001-2014/A03E.mat' to file '/Users/ingerlisamalia/mne_data/MNE-bnci-data/database/data-sets/001-2014/A03E.mat'.\n",
      "/Users/ingerlisamalia/miniconda3/lib/python3.12/site-packages/urllib3/connectionpool.py:1064: InsecureRequestWarning: Unverified HTTPS request is being made to host 'lampx.tugraz.at'. Adding certificate verification is strongly advised. See: https://urllib3.readthedocs.io/en/1.26.x/advanced-usage.html#ssl-warnings\n",
      "  warnings.warn(\n",
      "100%|█████████████████████████████████████| 42.3M/42.3M [00:00<00:00, 52.0GB/s]\n",
      "SHA256 hash of downloaded file: d4229267ec7624fa8bd3af5cbebac17f415f7c722de6cb676748f8cb3b717d97\n",
      "Use this value as the 'known_hash' argument of 'pooch.retrieve' to ensure that the file hasn't changed if it is downloaded again in the future.\n"
     ]
    }
   ],
   "source": [
    "subject_id = 3\n",
    "dataset = MOABBDataset(dataset_name=\"BNCI2014_001\", subject_ids=[subject_id])"
   ]
  },
  {
   "cell_type": "code",
   "execution_count": 3,
   "metadata": {},
   "outputs": [
    {
     "name": "stderr",
     "output_type": "stream",
     "text": [
      "/Users/ingerlisamalia/miniconda3/lib/python3.12/site-packages/braindecode/preprocessing/preprocess.py:55: UserWarning: Preprocessing choices with lambda functions cannot be saved.\n",
      "  warn('Preprocessing choices with lambda functions cannot be saved.')\n"
     ]
    },
    {
     "name": "stdout",
     "output_type": "stream",
     "text": [
      "NOTE: pick_types() is a legacy function. New code should use inst.pick(...).\n",
      "NOTE: pick_types() is a legacy function. New code should use inst.pick(...).\n",
      "NOTE: pick_types() is a legacy function. New code should use inst.pick(...).\n",
      "NOTE: pick_types() is a legacy function. New code should use inst.pick(...).\n",
      "NOTE: pick_types() is a legacy function. New code should use inst.pick(...).\n",
      "NOTE: pick_types() is a legacy function. New code should use inst.pick(...).\n",
      "NOTE: pick_types() is a legacy function. New code should use inst.pick(...).\n",
      "NOTE: pick_types() is a legacy function. New code should use inst.pick(...).\n",
      "NOTE: pick_types() is a legacy function. New code should use inst.pick(...).\n",
      "NOTE: pick_types() is a legacy function. New code should use inst.pick(...).\n",
      "NOTE: pick_types() is a legacy function. New code should use inst.pick(...).\n",
      "NOTE: pick_types() is a legacy function. New code should use inst.pick(...).\n"
     ]
    },
    {
     "data": {
      "text/plain": [
       "<braindecode.datasets.moabb.MOABBDataset at 0x30b5bbbc0>"
      ]
     },
     "execution_count": 3,
     "metadata": {},
     "output_type": "execute_result"
    }
   ],
   "source": [
    "# Preprocessing\n",
    "low_cut_hz = 4.0 # low cut frequency for filtering\n",
    "high_cut_hz = 38.0 # high cut frequency for filtering\n",
    "# Parameters for exponential moving standardization\n",
    "factor_new = 1e-3\n",
    "init_block_size = 1000\n",
    "# Factor to convert from V to uV\n",
    "factor = 1e6\n",
    "\n",
    "preprocessors = [\n",
    "    Preprocessor(\"pick_types\", eeg=True, meg=False, stim=False), # keep EEG sensors\n",
    "    Preprocessor(lambda data: multiply(data, factor)), # convert from V to uV\n",
    "    Preprocessor(\n",
    "        exponential_moving_standardize,\n",
    "        factor_new = factor_new,\n",
    "        init_block_size = init_block_size,\n",
    "    ),\n",
    "]\n",
    "\n",
    "# Transform the data\n",
    "preprocess(dataset, preprocessors, n_jobs=-1)"
   ]
  },
  {
   "cell_type": "code",
   "execution_count": 4,
   "metadata": {},
   "outputs": [
    {
     "name": "stdout",
     "output_type": "stream",
     "text": [
      "Used Annotations descriptions: ['feet', 'left_hand', 'right_hand', 'tongue']\n",
      "Used Annotations descriptions: ['feet', 'left_hand', 'right_hand', 'tongue']\n",
      "Used Annotations descriptions: ['feet', 'left_hand', 'right_hand', 'tongue']\n",
      "Used Annotations descriptions: ['feet', 'left_hand', 'right_hand', 'tongue']\n",
      "Used Annotations descriptions: ['feet', 'left_hand', 'right_hand', 'tongue']\n",
      "Used Annotations descriptions: ['feet', 'left_hand', 'right_hand', 'tongue']\n",
      "Used Annotations descriptions: ['feet', 'left_hand', 'right_hand', 'tongue']\n",
      "Used Annotations descriptions: ['feet', 'left_hand', 'right_hand', 'tongue']\n",
      "Used Annotations descriptions: ['feet', 'left_hand', 'right_hand', 'tongue']\n",
      "Used Annotations descriptions: ['feet', 'left_hand', 'right_hand', 'tongue']\n",
      "Used Annotations descriptions: ['feet', 'left_hand', 'right_hand', 'tongue']\n",
      "Used Annotations descriptions: ['feet', 'left_hand', 'right_hand', 'tongue']\n"
     ]
    }
   ],
   "source": [
    "# Extract compute windows\n",
    "trial_start_offset_seconds = -0.5\n",
    "# extract sampling frequency, check that they are the same in all datasets\n",
    "sfreq = dataset.datasets[0].raw.info[\"sfreq\"]\n",
    "assert all([ds.raw.info[\"sfreq\"] == sfreq for ds in dataset.datasets])\n",
    "# calculate the trial start offset in samples\n",
    "trial_start_offset_samples = int(trial_start_offset_seconds * sfreq)\n",
    "\n",
    "# create windows using braindecode function, needs parameters to define how trials should be used\n",
    "windows_dataset = create_windows_from_events(\n",
    "    dataset,\n",
    "    trial_start_offset_samples = trial_start_offset_samples,\n",
    "    trial_stop_offset_samples = 0,\n",
    "    preload = True,\n",
    ")"
   ]
  },
  {
   "cell_type": "code",
   "execution_count": 5,
   "metadata": {},
   "outputs": [],
   "source": [
    "splitted = windows_dataset.split(\"session\")\n",
    "train_set = splitted[\"0train\"]\n",
    "valid_set = splitted[\"1test\"]"
   ]
  },
  {
   "cell_type": "code",
   "execution_count": 6,
   "metadata": {},
   "outputs": [
    {
     "name": "stdout",
     "output_type": "stream",
     "text": [
      "============================================================================================================================================\n",
      "Layer (type (var_name):depth-idx)        Input Shape               Output Shape              Param #                   Kernel Shape\n",
      "============================================================================================================================================\n",
      "ShallowFBCSPNet (ShallowFBCSPNet)        [1, 22, 1125]             [1, 4]                    --                        --\n",
      "├─Ensure4d (ensuredims): 1-1             [1, 22, 1125]             [1, 22, 1125, 1]          --                        --\n",
      "├─Rearrange (dimshuffle): 1-2            [1, 22, 1125, 1]          [1, 1, 1125, 22]          --                        --\n",
      "├─CombinedConv (conv_time_spat): 1-3     [1, 1, 1125, 22]          [1, 40, 1101, 1]          36,240                    --\n",
      "├─BatchNorm2d (bnorm): 1-4               [1, 40, 1101, 1]          [1, 40, 1101, 1]          80                        --\n",
      "├─Expression (conv_nonlin_exp): 1-5      [1, 40, 1101, 1]          [1, 40, 1101, 1]          --                        --\n",
      "├─AvgPool2d (pool): 1-6                  [1, 40, 1101, 1]          [1, 40, 69, 1]            --                        [75, 1]\n",
      "├─Expression (pool_nonlin_exp): 1-7      [1, 40, 69, 1]            [1, 40, 69, 1]            --                        --\n",
      "├─Dropout (drop): 1-8                    [1, 40, 69, 1]            [1, 40, 69, 1]            --                        --\n",
      "├─Sequential (final_layer): 1-9          [1, 40, 69, 1]            [1, 4]                    --                        --\n",
      "│    └─Conv2d (conv_classifier): 2-1     [1, 40, 69, 1]            [1, 4, 1, 1]              11,044                    [69, 1]\n",
      "│    └─LogSoftmax (logsoftmax): 2-2      [1, 4, 1, 1]              [1, 4, 1, 1]              --                        --\n",
      "│    └─Expression (squeeze): 2-3         [1, 4, 1, 1]              [1, 4]                    --                        --\n",
      "============================================================================================================================================\n",
      "Total params: 47,364\n",
      "Trainable params: 47,364\n",
      "Non-trainable params: 0\n",
      "Total mult-adds (Units.MEGABYTES): 0.01\n",
      "============================================================================================================================================\n",
      "Input size (MB): 0.10\n",
      "Forward/backward pass size (MB): 0.35\n",
      "Params size (MB): 0.04\n",
      "Estimated Total Size (MB): 0.50\n",
      "============================================================================================================================================\n"
     ]
    },
    {
     "name": "stderr",
     "output_type": "stream",
     "text": [
      "/Users/ingerlisamalia/miniconda3/lib/python3.12/site-packages/braindecode/models/base.py:180: UserWarning: LogSoftmax final layer will be removed! Please adjust your loss function accordingly (e.g. CrossEntropyLoss)!\n",
      "  warnings.warn(\"LogSoftmax final layer will be removed! \" +\n"
     ]
    }
   ],
   "source": [
    "cuda = torch.cuda.is_available()\n",
    "device = \"cuda\" if cuda else \"cpu\"\n",
    "if cuda:\n",
    "    torch.backends.cudnn.benchmark = True\n",
    "# set random seed to roughly reproduce results\n",
    "# with cudnn benmarck = true, less consistent results\n",
    "# cudnn benchmark = false, more consistent but increased computation time\n",
    "seed = 2025\n",
    "set_random_seeds(seed=seed, cuda=cuda)\n",
    "\n",
    "n_classes = 4\n",
    "classes = list(range(n_classes))\n",
    "# extract number of chans and time steps from dataset\n",
    "n_chans = train_set[0][0].shape[0]\n",
    "n_times = train_set[0][0].shape[1]\n",
    "\n",
    "model = ShallowFBCSPNet(\n",
    "    n_chans,\n",
    "    n_classes,\n",
    "    n_times = n_times, \n",
    "    final_conv_length = \"auto\",\n",
    ")\n",
    "\n",
    "# display torchinfo table describing the model\n",
    "print(model)\n",
    "\n",
    "# send model to GPU\n",
    "if cuda: \n",
    "    model = model.cuda()"
   ]
  },
  {
   "cell_type": "code",
   "execution_count": 13,
   "metadata": {},
   "outputs": [
    {
     "name": "stdout",
     "output_type": "stream",
     "text": [
      "  epoch    train_accuracy    train_loss    valid_acc    valid_accuracy    valid_loss      lr     dur\n",
      "-------  ----------------  ------------  -----------  ----------------  ------------  ------  ------\n",
      "      1            \u001b[36m0.9965\u001b[0m        \u001b[32m0.0448\u001b[0m       \u001b[35m0.7049\u001b[0m            \u001b[31m0.7049\u001b[0m        \u001b[94m0.8224\u001b[0m  0.0006  2.3937\n",
      "      2            \u001b[36m1.0000\u001b[0m        0.0543       \u001b[35m0.7604\u001b[0m            \u001b[31m0.7604\u001b[0m        \u001b[94m0.6687\u001b[0m  0.0006  1.7173\n",
      "      3            1.0000        \u001b[32m0.0311\u001b[0m       0.7535            0.7535        0.6889  0.0006  1.8807\n",
      "      4            1.0000        0.0367       \u001b[35m0.7674\u001b[0m            \u001b[31m0.7674\u001b[0m        \u001b[94m0.6292\u001b[0m  0.0006  1.6822\n",
      "      5            1.0000        0.0449       0.7431            0.7431        0.6518  0.0005  1.6889\n",
      "      6            1.0000        \u001b[32m0.0310\u001b[0m       0.7292            0.7292        0.6835  0.0004  1.6787\n",
      "      7            1.0000        0.0416       0.7326            0.7326        0.6692  0.0004  1.6981\n",
      "      8            1.0000        \u001b[32m0.0303\u001b[0m       0.7465            0.7465        \u001b[94m0.6257\u001b[0m  0.0003  1.7336\n",
      "      9            1.0000        \u001b[32m0.0244\u001b[0m       0.7535            0.7535        \u001b[94m0.5989\u001b[0m  0.0002  1.6845\n",
      "     10            1.0000        0.0249       \u001b[35m0.7812\u001b[0m            \u001b[31m0.7812\u001b[0m        \u001b[94m0.5900\u001b[0m  0.0002  1.7210\n",
      "     11            1.0000        \u001b[32m0.0237\u001b[0m       0.7812            0.7812        \u001b[94m0.5878\u001b[0m  0.0001  1.6858\n",
      "     12            1.0000        0.0328       0.7743            0.7743        0.5892  0.0001  1.7034\n",
      "     13            1.0000        0.0242       0.7778            0.7778        0.5910  0.0000  1.7270\n",
      "     14            1.0000        \u001b[32m0.0227\u001b[0m       0.7743            0.7743        0.5919  0.0000  1.7577\n",
      "     15            1.0000        0.0232       0.7743            0.7743        0.5924  0.0000  1.8894\n"
     ]
    }
   ],
   "source": [
    "lr = 0.0625 * 0.01\n",
    "weight_decay = 0\n",
    "\n",
    "batch_size = 128\n",
    "n_epochs = 15\n",
    "\n",
    "clf = EEGClassifier(\n",
    "    model,\n",
    "    criterion = torch.nn.CrossEntropyLoss,\n",
    "    optimizer = torch.optim.AdamW,\n",
    "    train_split = predefined_split(valid_set),\n",
    "    optimizer__lr = lr,\n",
    "    optimizer__weight_decay = weight_decay,\n",
    "    batch_size = batch_size,\n",
    "    callbacks = [\n",
    "        \"accuracy\",\n",
    "        (\"lr_scheduler\", LRScheduler(\"CosineAnnealingLR\", T_max = n_epochs - 1)),\n",
    "    ],\n",
    "    device = device,\n",
    "    classes = classes,\n",
    ")\n",
    "\n",
    "_ = clf.fit(train_set, y = None, epochs = n_epochs)"
   ]
  },
  {
   "cell_type": "code",
   "execution_count": 14,
   "metadata": {},
   "outputs": [
    {
     "data": {
      "image/png": "[encoded data removed]",
      "text/plain": [
       "<Figure size 800x300 with 2 Axes>"
      ]
     },
     "metadata": {},
     "output_type": "display_data"
    }
   ],
   "source": [
    "import matplotlib.pyplot as plt\n",
    "import pandas as pd\n",
    "from matplotlib.lines import Line2D\n",
    "# Extract loss and accuracy values for plotting from history object\n",
    "results_columns = [\"train_loss\", \"valid_loss\", \"train_accuracy\", \"valid_accuracy\"]\n",
    "df = pd.DataFrame(\n",
    "    clf.history[:, results_columns],\n",
    "    columns=results_columns,\n",
    "    index=clf.history[:, \"epoch\"],\n",
    ")\n",
    "\n",
    "# get percent of misclass for better visual comparison to loss\n",
    "df = df.assign(\n",
    "    train_misclass=100 - 100 * df.train_accuracy,\n",
    "    valid_misclass=100 - 100 * df.valid_accuracy,\n",
    ")\n",
    "\n",
    "fig, ax1 = plt.subplots(figsize=(8, 3))\n",
    "df.loc[:, [\"train_loss\", \"valid_loss\"]].plot(\n",
    "    ax=ax1, style=[\"-\", \":\"], marker=\"o\", color=\"tab:blue\", legend=False, fontsize=14\n",
    ")\n",
    "\n",
    "ax1.tick_params(axis=\"y\", labelcolor=\"tab:blue\", labelsize=14)\n",
    "ax1.set_ylabel(\"Loss\", color=\"tab:blue\", fontsize=14)\n",
    "\n",
    "ax2 = ax1.twinx()  # instantiate a second axes that shares the same x-axis\n",
    "\n",
    "df.loc[:, [\"train_misclass\", \"valid_misclass\"]].plot(\n",
    "    ax=ax2, style=[\"-\", \":\"], marker=\"o\", color=\"tab:red\", legend=False\n",
    ")\n",
    "ax2.tick_params(axis=\"y\", labelcolor=\"tab:red\", labelsize=14)\n",
    "ax2.set_ylabel(\"Misclassification Rate [%]\", color=\"tab:red\", fontsize=14)\n",
    "ax2.set_ylim(ax2.get_ylim()[0], 85)  # make some room for legend\n",
    "ax1.set_xlabel(\"Epoch\", fontsize=14)\n",
    "\n",
    "# where some data has already been plotted to ax\n",
    "handles = []\n",
    "handles.append(\n",
    "    Line2D([0], [0], color=\"black\", linewidth=1, linestyle=\"-\", label=\"Train\")\n",
    ")\n",
    "handles.append(\n",
    "    Line2D([0], [0], color=\"black\", linewidth=1, linestyle=\":\", label=\"Valid\")\n",
    ")\n",
    "plt.legend(handles, [h.get_label() for h in handles], fontsize=14)\n",
    "plt.tight_layout()"
   ]
  }
 ],
 "metadata": {
  "kernelspec": {
   "display_name": "Python 3",
   "language": "python",
   "name": "python3"
  },
  "language_info": {
   "codemirror_mode": {
    "name": "ipython",
    "version": 3
   },
   "file_extension": ".py",
   "mimetype": "text/x-python",
   "name": "python",
   "nbconvert_exporter": "python",
   "pygments_lexer": "ipython3",
   "version": "3.12.9"
  }
 },
 "nbformat": 4,
 "nbformat_minor": 2
}
